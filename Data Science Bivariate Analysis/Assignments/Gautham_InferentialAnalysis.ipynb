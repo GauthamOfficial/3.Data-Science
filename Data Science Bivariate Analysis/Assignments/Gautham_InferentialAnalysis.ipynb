{
 "cells": [
  {
   "cell_type": "code",
   "execution_count": 1,
   "id": "6ee3b703-5ce0-476a-ac26-4f9b307fe087",
   "metadata": {},
   "outputs": [],
   "source": [
    "import pandas as pd"
   ]
  },
  {
   "cell_type": "code",
   "execution_count": 2,
   "id": "85ea6f1f-3afa-4f34-b980-be2a57eb3d36",
   "metadata": {},
   "outputs": [],
   "source": [
    "dataset = pd.read_csv(\"Placement_Data_Full_Class.csv\")"
   ]
  },
  {
   "cell_type": "code",
   "execution_count": 3,
   "id": "7d627cf2-84cc-4553-a17c-88e0d2907fdd",
   "metadata": {},
   "outputs": [
    {
     "data": {
      "text/html": [
       "<div>\n",
       "<style scoped>\n",
       "    .dataframe tbody tr th:only-of-type {\n",
       "        vertical-align: middle;\n",
       "    }\n",
       "\n",
       "    .dataframe tbody tr th {\n",
       "        vertical-align: top;\n",
       "    }\n",
       "\n",
       "    .dataframe thead th {\n",
       "        text-align: right;\n",
       "    }\n",
       "</style>\n",
       "<table border=\"1\" class=\"dataframe\">\n",
       "  <thead>\n",
       "    <tr style=\"text-align: right;\">\n",
       "      <th></th>\n",
       "      <th>sl_no</th>\n",
       "      <th>gender</th>\n",
       "      <th>ssc_p</th>\n",
       "      <th>ssc_b</th>\n",
       "      <th>hsc_p</th>\n",
       "      <th>hsc_b</th>\n",
       "      <th>hsc_s</th>\n",
       "      <th>degree_p</th>\n",
       "      <th>degree_t</th>\n",
       "      <th>workex</th>\n",
       "      <th>etest_p</th>\n",
       "      <th>specialisation</th>\n",
       "      <th>mba_p</th>\n",
       "      <th>status</th>\n",
       "      <th>salary</th>\n",
       "    </tr>\n",
       "  </thead>\n",
       "  <tbody>\n",
       "    <tr>\n",
       "      <th>0</th>\n",
       "      <td>1.0</td>\n",
       "      <td>M</td>\n",
       "      <td>67.00</td>\n",
       "      <td>Others</td>\n",
       "      <td>91.00</td>\n",
       "      <td>Others</td>\n",
       "      <td>Commerce</td>\n",
       "      <td>58.00</td>\n",
       "      <td>Sci&amp;Tech</td>\n",
       "      <td>No</td>\n",
       "      <td>55.0</td>\n",
       "      <td>Mkt&amp;HR</td>\n",
       "      <td>58.80</td>\n",
       "      <td>Placed</td>\n",
       "      <td>270000.0</td>\n",
       "    </tr>\n",
       "    <tr>\n",
       "      <th>1</th>\n",
       "      <td>2.0</td>\n",
       "      <td>M</td>\n",
       "      <td>79.33</td>\n",
       "      <td>Central</td>\n",
       "      <td>78.33</td>\n",
       "      <td>Others</td>\n",
       "      <td>Science</td>\n",
       "      <td>77.48</td>\n",
       "      <td>Sci&amp;Tech</td>\n",
       "      <td>Yes</td>\n",
       "      <td>86.5</td>\n",
       "      <td>Mkt&amp;Fin</td>\n",
       "      <td>66.28</td>\n",
       "      <td>Placed</td>\n",
       "      <td>200000.0</td>\n",
       "    </tr>\n",
       "    <tr>\n",
       "      <th>2</th>\n",
       "      <td>3.0</td>\n",
       "      <td>M</td>\n",
       "      <td>65.00</td>\n",
       "      <td>Central</td>\n",
       "      <td>68.00</td>\n",
       "      <td>Central</td>\n",
       "      <td>Arts</td>\n",
       "      <td>64.00</td>\n",
       "      <td>Comm&amp;Mgmt</td>\n",
       "      <td>No</td>\n",
       "      <td>75.0</td>\n",
       "      <td>Mkt&amp;Fin</td>\n",
       "      <td>57.80</td>\n",
       "      <td>Placed</td>\n",
       "      <td>250000.0</td>\n",
       "    </tr>\n",
       "    <tr>\n",
       "      <th>3</th>\n",
       "      <td>4.0</td>\n",
       "      <td>M</td>\n",
       "      <td>56.00</td>\n",
       "      <td>Central</td>\n",
       "      <td>52.00</td>\n",
       "      <td>Central</td>\n",
       "      <td>Science</td>\n",
       "      <td>52.00</td>\n",
       "      <td>Sci&amp;Tech</td>\n",
       "      <td>No</td>\n",
       "      <td>66.0</td>\n",
       "      <td>Mkt&amp;HR</td>\n",
       "      <td>59.43</td>\n",
       "      <td>Not Placed</td>\n",
       "      <td>NaN</td>\n",
       "    </tr>\n",
       "    <tr>\n",
       "      <th>4</th>\n",
       "      <td>5.0</td>\n",
       "      <td>M</td>\n",
       "      <td>85.80</td>\n",
       "      <td>Central</td>\n",
       "      <td>73.60</td>\n",
       "      <td>Central</td>\n",
       "      <td>Commerce</td>\n",
       "      <td>73.30</td>\n",
       "      <td>Comm&amp;Mgmt</td>\n",
       "      <td>No</td>\n",
       "      <td>96.8</td>\n",
       "      <td>Mkt&amp;Fin</td>\n",
       "      <td>55.50</td>\n",
       "      <td>Placed</td>\n",
       "      <td>425000.0</td>\n",
       "    </tr>\n",
       "    <tr>\n",
       "      <th>...</th>\n",
       "      <td>...</td>\n",
       "      <td>...</td>\n",
       "      <td>...</td>\n",
       "      <td>...</td>\n",
       "      <td>...</td>\n",
       "      <td>...</td>\n",
       "      <td>...</td>\n",
       "      <td>...</td>\n",
       "      <td>...</td>\n",
       "      <td>...</td>\n",
       "      <td>...</td>\n",
       "      <td>...</td>\n",
       "      <td>...</td>\n",
       "      <td>...</td>\n",
       "      <td>...</td>\n",
       "    </tr>\n",
       "    <tr>\n",
       "      <th>212</th>\n",
       "      <td>211.0</td>\n",
       "      <td>M</td>\n",
       "      <td>80.60</td>\n",
       "      <td>Others</td>\n",
       "      <td>82.00</td>\n",
       "      <td>Others</td>\n",
       "      <td>Commerce</td>\n",
       "      <td>77.60</td>\n",
       "      <td>Comm&amp;Mgmt</td>\n",
       "      <td>No</td>\n",
       "      <td>91.0</td>\n",
       "      <td>Mkt&amp;Fin</td>\n",
       "      <td>74.49</td>\n",
       "      <td>Placed</td>\n",
       "      <td>400000.0</td>\n",
       "    </tr>\n",
       "    <tr>\n",
       "      <th>213</th>\n",
       "      <td>212.0</td>\n",
       "      <td>M</td>\n",
       "      <td>58.00</td>\n",
       "      <td>Others</td>\n",
       "      <td>60.00</td>\n",
       "      <td>Others</td>\n",
       "      <td>Science</td>\n",
       "      <td>72.00</td>\n",
       "      <td>Sci&amp;Tech</td>\n",
       "      <td>No</td>\n",
       "      <td>74.0</td>\n",
       "      <td>Mkt&amp;Fin</td>\n",
       "      <td>53.62</td>\n",
       "      <td>Placed</td>\n",
       "      <td>275000.0</td>\n",
       "    </tr>\n",
       "    <tr>\n",
       "      <th>214</th>\n",
       "      <td>213.0</td>\n",
       "      <td>M</td>\n",
       "      <td>67.00</td>\n",
       "      <td>Others</td>\n",
       "      <td>67.00</td>\n",
       "      <td>Others</td>\n",
       "      <td>Commerce</td>\n",
       "      <td>73.00</td>\n",
       "      <td>Comm&amp;Mgmt</td>\n",
       "      <td>Yes</td>\n",
       "      <td>59.0</td>\n",
       "      <td>Mkt&amp;Fin</td>\n",
       "      <td>69.72</td>\n",
       "      <td>Placed</td>\n",
       "      <td>295000.0</td>\n",
       "    </tr>\n",
       "    <tr>\n",
       "      <th>215</th>\n",
       "      <td>214.0</td>\n",
       "      <td>F</td>\n",
       "      <td>74.00</td>\n",
       "      <td>Others</td>\n",
       "      <td>66.00</td>\n",
       "      <td>Others</td>\n",
       "      <td>Commerce</td>\n",
       "      <td>58.00</td>\n",
       "      <td>Comm&amp;Mgmt</td>\n",
       "      <td>No</td>\n",
       "      <td>70.0</td>\n",
       "      <td>Mkt&amp;HR</td>\n",
       "      <td>60.23</td>\n",
       "      <td>Placed</td>\n",
       "      <td>204000.0</td>\n",
       "    </tr>\n",
       "    <tr>\n",
       "      <th>216</th>\n",
       "      <td>215.0</td>\n",
       "      <td>M</td>\n",
       "      <td>62.00</td>\n",
       "      <td>Central</td>\n",
       "      <td>58.00</td>\n",
       "      <td>Others</td>\n",
       "      <td>Science</td>\n",
       "      <td>53.00</td>\n",
       "      <td>Comm&amp;Mgmt</td>\n",
       "      <td>No</td>\n",
       "      <td>89.0</td>\n",
       "      <td>Mkt&amp;HR</td>\n",
       "      <td>60.22</td>\n",
       "      <td>Not Placed</td>\n",
       "      <td>NaN</td>\n",
       "    </tr>\n",
       "  </tbody>\n",
       "</table>\n",
       "<p>217 rows × 15 columns</p>\n",
       "</div>"
      ],
      "text/plain": [
       "     sl_no gender  ssc_p    ssc_b  hsc_p    hsc_b     hsc_s  degree_p  \\\n",
       "0      1.0      M  67.00   Others  91.00   Others  Commerce     58.00   \n",
       "1      2.0      M  79.33  Central  78.33   Others   Science     77.48   \n",
       "2      3.0      M  65.00  Central  68.00  Central      Arts     64.00   \n",
       "3      4.0      M  56.00  Central  52.00  Central   Science     52.00   \n",
       "4      5.0      M  85.80  Central  73.60  Central  Commerce     73.30   \n",
       "..     ...    ...    ...      ...    ...      ...       ...       ...   \n",
       "212  211.0      M  80.60   Others  82.00   Others  Commerce     77.60   \n",
       "213  212.0      M  58.00   Others  60.00   Others   Science     72.00   \n",
       "214  213.0      M  67.00   Others  67.00   Others  Commerce     73.00   \n",
       "215  214.0      F  74.00   Others  66.00   Others  Commerce     58.00   \n",
       "216  215.0      M  62.00  Central  58.00   Others   Science     53.00   \n",
       "\n",
       "      degree_t workex  etest_p specialisation  mba_p      status    salary  \n",
       "0     Sci&Tech     No     55.0         Mkt&HR  58.80      Placed  270000.0  \n",
       "1     Sci&Tech    Yes     86.5        Mkt&Fin  66.28      Placed  200000.0  \n",
       "2    Comm&Mgmt     No     75.0        Mkt&Fin  57.80      Placed  250000.0  \n",
       "3     Sci&Tech     No     66.0         Mkt&HR  59.43  Not Placed       NaN  \n",
       "4    Comm&Mgmt     No     96.8        Mkt&Fin  55.50      Placed  425000.0  \n",
       "..         ...    ...      ...            ...    ...         ...       ...  \n",
       "212  Comm&Mgmt     No     91.0        Mkt&Fin  74.49      Placed  400000.0  \n",
       "213   Sci&Tech     No     74.0        Mkt&Fin  53.62      Placed  275000.0  \n",
       "214  Comm&Mgmt    Yes     59.0        Mkt&Fin  69.72      Placed  295000.0  \n",
       "215  Comm&Mgmt     No     70.0         Mkt&HR  60.23      Placed  204000.0  \n",
       "216  Comm&Mgmt     No     89.0         Mkt&HR  60.22  Not Placed       NaN  \n",
       "\n",
       "[217 rows x 15 columns]"
      ]
     },
     "execution_count": 3,
     "metadata": {},
     "output_type": "execute_result"
    }
   ],
   "source": [
    "dataset"
   ]
  },
  {
   "cell_type": "code",
   "execution_count": 4,
   "id": "575eed31-c5f2-4cbb-8895-9be97ef0d177",
   "metadata": {},
   "outputs": [
    {
     "data": {
      "text/plain": [
       "sl_no              2\n",
       "gender             2\n",
       "ssc_p              2\n",
       "ssc_b              2\n",
       "hsc_p              2\n",
       "hsc_b              2\n",
       "hsc_s              2\n",
       "degree_p           2\n",
       "degree_t           2\n",
       "workex             2\n",
       "etest_p            2\n",
       "specialisation     2\n",
       "mba_p              2\n",
       "status             2\n",
       "salary            69\n",
       "dtype: int64"
      ]
     },
     "execution_count": 4,
     "metadata": {},
     "output_type": "execute_result"
    }
   ],
   "source": [
    "dataset.isnull().sum()"
   ]
  },
  {
   "cell_type": "markdown",
   "id": "8dce2ae3-27e8-457c-84df-5f87758b5344",
   "metadata": {},
   "source": [
    "### Question 1"
   ]
  },
  {
   "cell_type": "code",
   "execution_count": 5,
   "id": "e336c0f7-5c44-44ec-a41d-5d3fb5698c72",
   "metadata": {},
   "outputs": [
    {
     "data": {
      "text/plain": [
       "'Median for numerical data: It is less affected by extreme values (outliers) and provides a robust central tendency.'"
      ]
     },
     "execution_count": 5,
     "metadata": {},
     "output_type": "execute_result"
    }
   ],
   "source": [
    "# Handling numerical columns\n",
    "numerical_columns = ['ssc_p', 'hsc_p', 'degree_p', 'etest_p', 'mba_p']\n",
    "dataset[numerical_columns] = dataset[numerical_columns].fillna(dataset[numerical_columns].median())\n",
    "\n",
    "\"\"\"Median for numerical data: It is less affected by extreme values (outliers) and provides a robust central tendency.\"\"\""
   ]
  },
  {
   "cell_type": "code",
   "execution_count": 6,
   "id": "79825aa2-4659-4994-a296-0b2461e4add3",
   "metadata": {},
   "outputs": [
    {
     "data": {
      "text/plain": [
       "'Mode for categorical data: It ensures consistency by assigning the most common value.'"
      ]
     },
     "execution_count": 6,
     "metadata": {},
     "output_type": "execute_result"
    }
   ],
   "source": [
    "# Handling categorical columns\n",
    "categorical_columns = ['gender', 'ssc_b', 'hsc_b', 'hsc_s', 'degree_t', 'workex', 'specialisation', 'status']\n",
    "for col in categorical_columns:\n",
    "    dataset[col] = dataset[col].fillna(dataset[col].mode()[0])  # Extracting the first mode value\n",
    "\n",
    "\"\"\"Mode for categorical data: It ensures consistency by assigning the most common value.\"\"\"    "
   ]
  },
  {
   "cell_type": "code",
   "execution_count": 7,
   "id": "a94154a4-b3c8-4a1b-88b0-cf225f5423b8",
   "metadata": {},
   "outputs": [
    {
     "data": {
      "text/plain": [
       "'0 for salary: Missing salary values likely indicate no job offer or undisclosed salary, so replacing them with 0 makes sense.'"
      ]
     },
     "execution_count": 7,
     "metadata": {},
     "output_type": "execute_result"
    }
   ],
   "source": [
    "# Handling 'salary' column separately\n",
    "dataset['salary'] = pd.to_numeric(dataset['salary'], errors='coerce')  # Ensure it's numeric\n",
    "dataset['salary'] = dataset['salary'].fillna(0)  # Fill missing values\n",
    "\n",
    "\"\"\"0 for salary: Missing salary values likely indicate no job offer or undisclosed salary, so replacing them with 0 makes sense.\"\"\""
   ]
  },
  {
   "cell_type": "code",
   "execution_count": 8,
   "id": "e15efa4c-7ff6-4c2c-90be-7f2450820c48",
   "metadata": {},
   "outputs": [],
   "source": [
    "dataset['sl_no'] = dataset['sl_no'].ffill()  # Forward fill missing serial numbers"
   ]
  },
  {
   "cell_type": "code",
   "execution_count": 9,
   "id": "f9d32084-1a16-4b4c-9ead-d876f497c05a",
   "metadata": {},
   "outputs": [
    {
     "data": {
      "text/plain": [
       "sl_no             0\n",
       "gender            0\n",
       "ssc_p             0\n",
       "ssc_b             0\n",
       "hsc_p             0\n",
       "hsc_b             0\n",
       "hsc_s             0\n",
       "degree_p          0\n",
       "degree_t          0\n",
       "workex            0\n",
       "etest_p           0\n",
       "specialisation    0\n",
       "mba_p             0\n",
       "status            0\n",
       "salary            0\n",
       "dtype: int64"
      ]
     },
     "execution_count": 9,
     "metadata": {},
     "output_type": "execute_result"
    }
   ],
   "source": [
    "dataset.isnull().sum()"
   ]
  },
  {
   "cell_type": "markdown",
   "id": "54a78223-5314-45ac-af39-7c1a8d0a56a4",
   "metadata": {},
   "source": [
    "## Question 2"
   ]
  },
  {
   "cell_type": "code",
   "execution_count": 10,
   "id": "ca55a7f1-91c6-4fc9-8431-7191be07bf95",
   "metadata": {},
   "outputs": [
    {
     "name": "stdout",
     "output_type": "stream",
     "text": [
      "Number of students not placed: 67\n"
     ]
    }
   ],
   "source": [
    "not_placed_count = dataset[dataset['status'] == 'Not Placed'].shape[0]\n",
    "print(\"Number of students not placed:\", not_placed_count)"
   ]
  },
  {
   "cell_type": "markdown",
   "id": "54fc24a5-3dfd-472e-9e6b-a69a6dd4ecca",
   "metadata": {},
   "source": [
    "## Question 3"
   ]
  },
  {
   "cell_type": "code",
   "execution_count": 11,
   "id": "65940ca2-7629-4279-a030-f405497348d2",
   "metadata": {},
   "outputs": [
    {
     "name": "stdout",
     "output_type": "stream",
     "text": [
      "Average scores of placed vs not placed students:\n",
      "                ssc_p      hsc_p   degree_p   etest_p      mba_p\n",
      "status                                                          \n",
      "Not Placed  57.544030  58.395522  61.134179  69.58791  61.612836\n",
      "Placed      71.658533  69.860867  68.704000  73.20820  62.571667\n",
      "\n",
      "Placement status by degree type:\n",
      "degree_t   status    \n",
      "Comm&Mgmt  Not Placed     43\n",
      "           Placed        104\n",
      "Others     Not Placed      6\n",
      "           Placed          5\n",
      "Sci&Tech   Not Placed     18\n",
      "           Placed         41\n",
      "dtype: int64\n",
      "\n",
      "Placement status by specialization:\n",
      "specialisation  status    \n",
      "Mkt&Fin         Not Placed    25\n",
      "                Placed        97\n",
      "Mkt&HR          Not Placed    42\n",
      "                Placed        53\n",
      "dtype: int64\n",
      "\n",
      "Work experience vs placement:\n",
      "workex  status    \n",
      "No      Not Placed    57\n",
      "        Placed        86\n",
      "Yes     Not Placed    10\n",
      "        Placed        64\n",
      "dtype: int64\n"
     ]
    }
   ],
   "source": [
    "\"\"\"\n",
    "1. Academic Performance:\n",
    "Low percentages in ssc_p, hsc_p, degree_p, etest_p, mba_p\n",
    "Check if students with lower marks have a higher non-placement rate\n",
    "\n",
    "2. Degree Type & Specialization:\n",
    "Certain degree types (degree_t) or specializations (specialisation) might have lower placement rates.\n",
    "\n",
    "3. Work Experience:\n",
    "Students with no work experience (workex = 'No') might be less likely to be placed.\n",
    "\"\"\"\n",
    "\n",
    "# Comparing placement status with academic scores\n",
    "print(\"Average scores of placed vs not placed students:\")\n",
    "print(dataset.groupby('status')[['ssc_p', 'hsc_p', 'degree_p', 'etest_p', 'mba_p']].mean())\n",
    "\n",
    "# Count of placed vs not placed based on degree type and specialization\n",
    "print(\"\\nPlacement status by degree type:\")\n",
    "print(dataset.groupby(['degree_t', 'status']).size())\n",
    "\n",
    "print(\"\\nPlacement status by specialization:\")\n",
    "print(dataset.groupby(['specialisation', 'status']).size())\n",
    "\n",
    "# Work experience impact\n",
    "print(\"\\nWork experience vs placement:\")\n",
    "print(dataset.groupby(['workex', 'status']).size())"
   ]
  },
  {
   "cell_type": "markdown",
   "id": "728e29a4-e4f9-4196-9fdb-8b832e84c49c",
   "metadata": {},
   "source": [
    "## Question 4"
   ]
  },
  {
   "cell_type": "code",
   "execution_count": 12,
   "id": "eb495b9f-f9af-452f-b1ae-44637e816234",
   "metadata": {},
   "outputs": [
    {
     "name": "stdout",
     "output_type": "stream",
     "text": [
      "Correlation between MBA percentage and Salary:\n",
      "           mba_p    salary\n",
      "mba_p   1.000000  0.139329\n",
      "salary  0.139329  1.000000\n"
     ]
    }
   ],
   "source": [
    "\"\"\"\n",
    "This will show how strongly mba_p and salary are related.\n",
    "A positive value means higher mba_p leads to a higher salary.\n",
    "A negative value means higher mba_p leads to a lower salary.\n",
    "A value close to 0 means no significant relationship.\n",
    "\"\"\"\n",
    "correlation = dataset[['mba_p', 'salary']].corr()\n",
    "print(\"Correlation between MBA percentage and Salary:\")\n",
    "print(correlation)"
   ]
  },
  {
   "cell_type": "code",
   "execution_count": 13,
   "id": "c3eedea0-b966-4ad2-a939-ca9f866aa5bd",
   "metadata": {},
   "outputs": [
    {
     "data": {
      "image/png": "[encoded data removed]",
      "text/plain": [
       "<Figure size 800x500 with 1 Axes>"
      ]
     },
     "metadata": {},
     "output_type": "display_data"
    }
   ],
   "source": [
    "import matplotlib.pyplot as plt\n",
    "import seaborn as sns\n",
    "\n",
    "# Scatter plot to visualize the relationship\n",
    "plt.figure(figsize=(8,5))\n",
    "sns.scatterplot(x=dataset['mba_p'], y=dataset['salary'])\n",
    "plt.xlabel(\"MBA Percentage\")\n",
    "plt.ylabel(\"Salary\")\n",
    "plt.title(\"Relationship between MBA Percentage and Salary\")\n",
    "plt.show()\n",
    "\n",
    "#This scatter plot helps visualize trends between mba_p and salary.\n",
    "#If the points form an upward trend, a higher MBA percentage leads to higher salaries.\n",
    "\n",
    "#Possible Findings:\n",
    "\n",
    "#If correlation is positive, higher MBA percentages may lead to better salaries.\n",
    "#If correlation is near zero, MBA scores might not significantly impact salaries.\n",
    "#If correlation is negative, a higher MBA percentage might be linked to lower salaries (unlikely)."
   ]
  },
  {
   "cell_type": "markdown",
   "id": "351c68ec-dbf7-4f0d-a847-374d5191c471",
   "metadata": {},
   "source": [
    "## Question 5"
   ]
  },
  {
   "cell_type": "code",
   "execution_count": 14,
   "id": "f6f6f5c8-3d9d-4848-aa10-aa16b81d7a4f",
   "metadata": {},
   "outputs": [
    {
     "name": "stdout",
     "output_type": "stream",
     "text": [
      "Minimum salary for each specialization:\n",
      " specialisation\n",
      "Mkt&Fin    0.0\n",
      "Mkt&HR     0.0\n",
      "Name: salary, dtype: float64\n",
      "\n",
      "Specialization with the lowest salary: Mkt&Fin\n"
     ]
    }
   ],
   "source": [
    "min_salary_specialization = dataset.groupby(\"specialisation\")[\"salary\"].min()\n",
    "print(\"Minimum salary for each specialization:\\n\", min_salary_specialization)\n",
    "\n",
    "# Find specialization with overall minimum salary\n",
    "specialization_with_min_salary = min_salary_specialization.idxmin()\n",
    "print(\"\\nSpecialization with the lowest salary:\", specialization_with_min_salary)"
   ]
  },
  {
   "cell_type": "markdown",
   "id": "e2de251c-f5da-4851-a5a9-6b0f6b6f4af6",
   "metadata": {},
   "source": [
    "## Question 6"
   ]
  },
  {
   "cell_type": "code",
   "execution_count": 15,
   "id": "b4f425a1-48a3-435e-a22e-572a3ed1baf9",
   "metadata": {},
   "outputs": [
    {
     "name": "stdout",
     "output_type": "stream",
     "text": [
      "Number of students getting salary above 500,000: 3\n"
     ]
    }
   ],
   "source": [
    "high_salary_count = dataset[dataset['salary'] > 500000].shape[0]\n",
    "print(\"Number of students getting salary above 500,000:\", high_salary_count)"
   ]
  },
  {
   "cell_type": "markdown",
   "id": "96b597a9-a1b9-4d63-b3a7-838e84dc06aa",
   "metadata": {},
   "source": [
    "## Question 7"
   ]
  },
  {
   "cell_type": "code",
   "execution_count": 16,
   "id": "14756f72-4ded-42e3-b943-a41b8a9cd5c1",
   "metadata": {},
   "outputs": [
    {
     "name": "stdout",
     "output_type": "stream",
     "text": [
      "F-statistic: 100.33226296639641\n",
      "P-value: 2.2444909488516516e-21\n",
      "Reject the Null Hypothesis: There is a significant difference between etest_p and mba_p.\n"
     ]
    }
   ],
   "source": [
    "\"\"\"\n",
    "Null Hypothesis (H₀): There is no significant difference between the means of etest_p and mba_p.\n",
    "Alternative Hypothesis (H₁): There is a significant difference between the means of etest_p and mba_p.\n",
    "\"\"\"\n",
    "\n",
    "from scipy import stats\n",
    "\n",
    "# Perform ANOVA test\n",
    "f_statistic, p_value = stats.f_oneway(dataset['etest_p'], dataset['mba_p'])\n",
    "\n",
    "# Print results\n",
    "print(f\"F-statistic: {f_statistic}\")\n",
    "print(f\"P-value: {p_value}\")\n",
    "\n",
    "# Decision at 5% significance level\n",
    "alpha = 0.05\n",
    "if p_value < alpha:\n",
    "    print(\"Reject the Null Hypothesis: There is a significant difference between etest_p and mba_p.\")\n",
    "else:\n",
    "    print(\"Fail to Reject the Null Hypothesis: No significant difference between etest_p and mba_p.\")\n",
    "\n",
    "#If p-value < 0.05, we reject H₀ → etest_p and mba_p are significantly different.\n",
    "#If p-value ≥ 0.05, we fail to reject H₀ → etest_p and mba_p are not significantly different."
   ]
  },
  {
   "cell_type": "markdown",
   "id": "25ae089b-74c7-4392-bed8-8274db70027d",
   "metadata": {},
   "source": [
    "## Question 8"
   ]
  },
  {
   "cell_type": "code",
   "execution_count": 17,
   "id": "99256fe6-0187-41ec-bf9c-3bd882caabe2",
   "metadata": {},
   "outputs": [
    {
     "name": "stdout",
     "output_type": "stream",
     "text": [
      "T-statistic: 2.584058295797713\n",
      "P-value: 0.011110477852831745\n",
      "Reject the Null Hypothesis: There is a significant difference in salaries between Sci&Tech and Mkt&HR.\n"
     ]
    }
   ],
   "source": [
    "\"\"\"\n",
    "Null Hypothesis (H₀): There is no significant difference in salary between degree_t = Sci&Tech and specialisation = Mkt&HR.\n",
    "Alternative Hypothesis (H₁): There is a significant difference in salary between degree_t = Sci&Tech and specialisation = Mkt&HR.\n",
    "\"\"\"\n",
    "\n",
    "from scipy import stats\n",
    "\n",
    "# Filter salaries for each category\n",
    "salary_sci_tech = dataset[dataset['degree_t'] == 'Sci&Tech']['salary'].dropna()\n",
    "salary_mkt_hr = dataset[dataset['specialisation'] == 'Mkt&HR']['salary'].dropna()\n",
    "\n",
    "# Perform independent t-test\n",
    "t_statistic, p_value = stats.ttest_ind(salary_sci_tech, salary_mkt_hr, equal_var=False)\n",
    "\n",
    "# Print results\n",
    "print(f\"T-statistic: {t_statistic}\")\n",
    "print(f\"P-value: {p_value}\")\n",
    "\n",
    "# Decision at 5% significance level\n",
    "alpha = 0.05\n",
    "if p_value < alpha:\n",
    "    print(\"Reject the Null Hypothesis: There is a significant difference in salaries between Sci&Tech and Mkt&HR.\")\n",
    "else:\n",
    "    print(\"Fail to Reject the Null Hypothesis: No significant difference in salaries between Sci&Tech and Mkt&HR.\")\n",
    "\n",
    "#If p-value < 0.05, we reject H₀ → There is a significant difference in salaries between Sci&Tech graduates and Mkt&HR specialization.\n",
    "#If p-value ≥ 0.05, we fail to reject H₀ → There is no significant difference in salaries between the two groups."
   ]
  },
  {
   "cell_type": "markdown",
   "id": "36f2880e-cb22-4ac3-bcc5-d824f2e64e7e",
   "metadata": {},
   "source": [
    "## Question 9"
   ]
  },
  {
   "cell_type": "code",
   "execution_count": 18,
   "id": "a7e5cb20-c263-46cf-801d-1c28bd2753a8",
   "metadata": {},
   "outputs": [
    {
     "name": "stdout",
     "output_type": "stream",
     "text": [
      "     salary  salary_standardized\n",
      "0  270000.0             0.471090\n",
      "1  200000.0             0.020157\n",
      "2  250000.0             0.342252\n",
      "3       0.0            -1.268223\n",
      "4  425000.0             1.469584\n"
     ]
    }
   ],
   "source": [
    "# Standardization (Z-score normalization)\n",
    "dataset['salary_standardized'] = (dataset['salary'] - dataset['salary'].mean()) / dataset['salary'].std()\n",
    "\n",
    "# Display the first few rows\n",
    "print(dataset[['salary', 'salary_standardized']].head())"
   ]
  },
  {
   "cell_type": "markdown",
   "id": "065298df-68fa-45a3-b319-b9ea0a6835c0",
   "metadata": {},
   "source": [
    "## Question 10"
   ]
  },
  {
   "cell_type": "code",
   "execution_count": 19,
   "id": "7734da2f-4413-4d1b-be08-2c024fdf2949",
   "metadata": {},
   "outputs": [
    {
     "name": "stdout",
     "output_type": "stream",
     "text": [
      "Salary: 700000, PDF: 1.3453733942637965e-08\n",
      "Salary: 710000, PDF: 1.0895970760140604e-08\n",
      "Salary: 720000, PDF: 8.787933989688095e-09\n",
      "Salary: 730000, PDF: 7.058386015888424e-09\n",
      "Salary: 740000, PDF: 5.64575188611221e-09\n",
      "Salary: 750000, PDF: 4.497135089654428e-09\n",
      "Salary: 760000, PDF: 3.5673674193235287e-09\n",
      "Salary: 770000, PDF: 2.818107218713029e-09\n",
      "Salary: 780000, PDF: 2.2169961860924504e-09\n",
      "Salary: 790000, PDF: 1.7368813118459178e-09\n",
      "Salary: 800000, PDF: 1.3551054797817856e-09\n",
      "Salary: 810000, PDF: 1.052867750516509e-09\n",
      "Salary: 820000, PDF: 8.146523376622187e-10\n",
      "Salary: 830000, PDF: 6.27723742735e-10\n",
      "Salary: 840000, PDF: 4.816843827088529e-10\n",
      "Salary: 850000, PDF: 3.680902709827367e-10\n",
      "Salary: 860000, PDF: 2.8011984315200587e-10\n",
      "Salary: 870000, PDF: 2.122907997027964e-10\n",
      "Salary: 880000, PDF: 1.6021981810509477e-10\n",
      "Salary: 890000, PDF: 1.2042012077307762e-10\n",
      "Salary: 900000, PDF: 9.013213225672426e-11\n"
     ]
    }
   ],
   "source": [
    "import numpy as np\n",
    "from scipy.stats import norm\n",
    "\n",
    "# Get mean and standard deviation of salary\n",
    "mu = dataset['salary'].mean()\n",
    "sigma = dataset['salary'].std()\n",
    "\n",
    "# Define salary range\n",
    "salary_range = np.arange(700000, 900001, 10000)  # Range from 700000 to 900000 with step of 10,000\n",
    "\n",
    "# Compute PDF values for each salary in range\n",
    "pdf_values = norm.pdf(salary_range, mu, sigma)\n",
    "\n",
    "# Print the results\n",
    "for s, p in zip(salary_range, pdf_values):\n",
    "    print(f\"Salary: {s}, PDF: {p}\")"
   ]
  },
  {
   "cell_type": "markdown",
   "id": "2f26c1c3-4965-4843-b40c-00d6e2107395",
   "metadata": {},
   "source": [
    "## Question 11"
   ]
  },
  {
   "cell_type": "code",
   "execution_count": 20,
   "id": "99c29115-a3c0-40ad-9d7d-be82c71cf20b",
   "metadata": {},
   "outputs": [
    {
     "name": "stdout",
     "output_type": "stream",
     "text": [
      "T-test for etest_p: T-statistic = 0.14584346264785156, P-value = 0.8843410084190914\n",
      "T-test for mba_p: T-statistic = 1.820024413547257, P-value = 0.0717164084043401\n",
      "Fail to reject H₀ for etest_p: No significant difference in etest_p scores for Sci&Tech students.\n",
      "Fail to reject H₀ for mba_p: No significant difference in mba_p scores for Sci&Tech students.\n"
     ]
    }
   ],
   "source": [
    "#Null Hypothesis (H₀): There is no significant difference in etest_p (or mba_p) scores between Sci&Tech students and others.\n",
    "#Alternative Hypothesis (H₁): There is a significant difference in etest_p (or mba_p) scores between Sci&Tech students and others.\n",
    "\n",
    "from scipy import stats\n",
    "\n",
    "# Filter data for Sci&Tech and others\n",
    "sci_tech_etest = dataset[dataset['degree_t'] == 'Sci&Tech']['etest_p'].dropna()\n",
    "others_etest = dataset[dataset['degree_t'] != 'Sci&Tech']['etest_p'].dropna()\n",
    "\n",
    "sci_tech_mba = dataset[dataset['degree_t'] == 'Sci&Tech']['mba_p'].dropna()\n",
    "others_mba = dataset[dataset['degree_t'] != 'Sci&Tech']['mba_p'].dropna()\n",
    "\n",
    "# Perform t-test for etest_p\n",
    "t_stat_etest, p_value_etest = stats.ttest_ind(sci_tech_etest, others_etest, equal_var=False)\n",
    "\n",
    "# Perform t-test for mba_p\n",
    "t_stat_mba, p_value_mba = stats.ttest_ind(sci_tech_mba, others_mba, equal_var=False)\n",
    "\n",
    "# Print results\n",
    "print(f\"T-test for etest_p: T-statistic = {t_stat_etest}, P-value = {p_value_etest}\")\n",
    "print(f\"T-test for mba_p: T-statistic = {t_stat_mba}, P-value = {p_value_mba}\")\n",
    "\n",
    "# Decision at 5% significance level\n",
    "alpha = 0.05\n",
    "\n",
    "if p_value_etest < alpha:\n",
    "    print(\"Reject H₀ for etest_p: There is a significant difference in etest_p scores for Sci&Tech students.\")\n",
    "else:\n",
    "    print(\"Fail to reject H₀ for etest_p: No significant difference in etest_p scores for Sci&Tech students.\")\n",
    "\n",
    "if p_value_mba < alpha:\n",
    "    print(\"Reject H₀ for mba_p: There is a significant difference in mba_p scores for Sci&Tech students.\")\n",
    "else:\n",
    "    print(\"Fail to reject H₀ for mba_p: No significant difference in mba_p scores for Sci&Tech students.\")\n",
    "\n",
    "#If p-value < 0.05, we reject H₀ → There is a significant difference.\n",
    "#If p-value ≥ 0.05, we fail to reject H₀ → There is no significant difference."
   ]
  },
  {
   "cell_type": "markdown",
   "id": "a01f321f-67aa-49af-88ec-f2a10732ef28",
   "metadata": {},
   "source": [
    "## Question 12"
   ]
  },
  {
   "cell_type": "code",
   "execution_count": 21,
   "id": "3037fbce-cc69-43c3-942d-97ba7dc21635",
   "metadata": {},
   "outputs": [
    {
     "name": "stdout",
     "output_type": "stream",
     "text": [
      "Most correlated parameter with salary: salary_standardized\n",
      "salary_standardized    1.000000\n",
      "ssc_p                  0.534359\n",
      "hsc_p                  0.450567\n",
      "degree_p               0.405879\n",
      "etest_p                0.186549\n",
      "mba_p                  0.139329\n",
      "sl_no                  0.021418\n",
      "Name: salary, dtype: float64\n"
     ]
    }
   ],
   "source": [
    "# Select only numerical columns\n",
    "numeric_dataset = dataset.select_dtypes(include=['number'])\n",
    "\n",
    "# Compute correlation of salary with numerical columns\n",
    "correlation_matrix = numeric_dataset.corr()\n",
    "\n",
    "# Get correlations of salary column\n",
    "salary_correlation = correlation_matrix['salary'].dropna().drop('salary', errors='ignore')  \n",
    "\n",
    "# Sort by absolute correlation values in descending order\n",
    "salary_correlation_sorted = salary_correlation.abs().sort_values(ascending=False)\n",
    "\n",
    "# Print the most correlated parameter\n",
    "print(\"Most correlated parameter with salary:\", salary_correlation_sorted.idxmax())\n",
    "print(salary_correlation_sorted)\n",
    "\n",
    "#Interpretation\n",
    "##The parameter with the highest absolute correlation will be printed.\n",
    "##A positive correlation means higher values in the parameter lead to higher salaries.\n",
    "##A negative correlation means higher values in the parameter lead to lower salaries."
   ]
  },
  {
   "cell_type": "markdown",
   "id": "8560fbca-341a-4af8-8b5b-84e69b8f4a05",
   "metadata": {},
   "source": [
    "## Question 13"
   ]
  },
  {
   "cell_type": "code",
   "execution_count": 22,
   "id": "3a493f81-8e9f-4794-89ec-b40c2279bbad",
   "metadata": {},
   "outputs": [
    {
     "data": {
      "image/png": "[encoded data removed]",
      "text/plain": [
       "<Figure size 800x600 with 1 Axes>"
      ]
     },
     "metadata": {},
     "output_type": "display_data"
    }
   ],
   "source": [
    "import seaborn as sns\n",
    "import matplotlib.pyplot as plt\n",
    "\n",
    "# Filter only placed students (salary > 0)\n",
    "placed_students = dataset[dataset['salary'] > 0]\n",
    "\n",
    "# Plot boxplot for salary vs placement status with hue\n",
    "plt.figure(figsize=(8, 6))\n",
    "sns.boxplot(x=\"status\", y=\"salary\", data=placed_students, hue=\"status\", palette=\"Set2\", legend=False)\n",
    "\n",
    "# Title and labels\n",
    "plt.title(\"Salary Distribution Based on Placement Status\", fontsize=14)\n",
    "plt.xlabel(\"Placement Status\", fontsize=12)\n",
    "plt.ylabel(\"Salary\", fontsize=12)\n",
    "\n",
    "# Show plot\n",
    "plt.show()"
   ]
  },
  {
   "cell_type": "code",
   "execution_count": 23,
   "id": "a87250e3-bd1a-4c6f-9819-aa2a809832ec",
   "metadata": {},
   "outputs": [],
   "source": [
    "# Explanation of the Graph:\n",
    "# Placement Impact on Salary\n",
    "\n",
    "# Students with \"Placed\" status have varying salary ranges.\n",
    "# Non-placed students are excluded since their salary is 0.\n",
    "# Salary Spread\n",
    "\n",
    "# The median salary (thick line inside the box) represents the middle value of placed students' salaries.\n",
    "# The whiskers indicate the range of salaries, and outliers (dots) represent extreme salaries.\n",
    "# Insights from the Graph\n",
    "\n",
    "# If the spread is large, salaries vary significantly among placed students.\n",
    "# If there are many outliers, some students receive exceptionally high or low salaries."
   ]
  }
 ],
 "metadata": {
  "kernelspec": {
   "display_name": "Python 3 (ipykernel)",
   "language": "python",
   "name": "python3"
  },
  "language_info": {
   "codemirror_mode": {
    "name": "ipython",
    "version": 3
   },
   "file_extension": ".py",
   "mimetype": "text/x-python",
   "name": "python",
   "nbconvert_exporter": "python",
   "pygments_lexer": "ipython3",
   "version": "3.10.0"
  }
 },
 "nbformat": 4,
 "nbformat_minor": 5
}
